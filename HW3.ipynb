{
  "cells": [
    {
      "cell_type": "code",
      "execution_count": 1,
      "metadata": {
        "id": "xTrmGDAJsuj2"
      },
      "outputs": [],
      "source": [
        "import numpy as np\n",
        "import pandas as pd\n",
        "\n",
        "import warnings\n",
        "warnings.simplefilter('ignore', FutureWarning)\n",
        "\n",
        "%matplotlib inline\n",
        "import matplotlib.pyplot as plt"
      ]
    },
    {
      "cell_type": "code",
      "execution_count": 2,
      "metadata": {
        "colab": {
          "base_uri": "https://localhost:8080/",
          "height": 73
        },
        "id": "DCICIlHbumOP",
        "outputId": "db79f0ad-a68a-401c-d0d6-eff8dde1677c"
      },
      "outputs": [
        {
          "output_type": "display_data",
          "data": {
            "text/plain": [
              "<IPython.core.display.HTML object>"
            ],
            "text/html": [
              "\n",
              "     <input type=\"file\" id=\"files-98b3d51a-9f98-4030-9c93-c8722a3973e5\" name=\"files[]\" multiple disabled\n",
              "        style=\"border:none\" />\n",
              "     <output id=\"result-98b3d51a-9f98-4030-9c93-c8722a3973e5\">\n",
              "      Upload widget is only available when the cell has been executed in the\n",
              "      current browser session. Please rerun this cell to enable.\n",
              "      </output>\n",
              "      <script>// Copyright 2017 Google LLC\n",
              "//\n",
              "// Licensed under the Apache License, Version 2.0 (the \"License\");\n",
              "// you may not use this file except in compliance with the License.\n",
              "// You may obtain a copy of the License at\n",
              "//\n",
              "//      http://www.apache.org/licenses/LICENSE-2.0\n",
              "//\n",
              "// Unless required by applicable law or agreed to in writing, software\n",
              "// distributed under the License is distributed on an \"AS IS\" BASIS,\n",
              "// WITHOUT WARRANTIES OR CONDITIONS OF ANY KIND, either express or implied.\n",
              "// See the License for the specific language governing permissions and\n",
              "// limitations under the License.\n",
              "\n",
              "/**\n",
              " * @fileoverview Helpers for google.colab Python module.\n",
              " */\n",
              "(function(scope) {\n",
              "function span(text, styleAttributes = {}) {\n",
              "  const element = document.createElement('span');\n",
              "  element.textContent = text;\n",
              "  for (const key of Object.keys(styleAttributes)) {\n",
              "    element.style[key] = styleAttributes[key];\n",
              "  }\n",
              "  return element;\n",
              "}\n",
              "\n",
              "// Max number of bytes which will be uploaded at a time.\n",
              "const MAX_PAYLOAD_SIZE = 100 * 1024;\n",
              "\n",
              "function _uploadFiles(inputId, outputId) {\n",
              "  const steps = uploadFilesStep(inputId, outputId);\n",
              "  const outputElement = document.getElementById(outputId);\n",
              "  // Cache steps on the outputElement to make it available for the next call\n",
              "  // to uploadFilesContinue from Python.\n",
              "  outputElement.steps = steps;\n",
              "\n",
              "  return _uploadFilesContinue(outputId);\n",
              "}\n",
              "\n",
              "// This is roughly an async generator (not supported in the browser yet),\n",
              "// where there are multiple asynchronous steps and the Python side is going\n",
              "// to poll for completion of each step.\n",
              "// This uses a Promise to block the python side on completion of each step,\n",
              "// then passes the result of the previous step as the input to the next step.\n",
              "function _uploadFilesContinue(outputId) {\n",
              "  const outputElement = document.getElementById(outputId);\n",
              "  const steps = outputElement.steps;\n",
              "\n",
              "  const next = steps.next(outputElement.lastPromiseValue);\n",
              "  return Promise.resolve(next.value.promise).then((value) => {\n",
              "    // Cache the last promise value to make it available to the next\n",
              "    // step of the generator.\n",
              "    outputElement.lastPromiseValue = value;\n",
              "    return next.value.response;\n",
              "  });\n",
              "}\n",
              "\n",
              "/**\n",
              " * Generator function which is called between each async step of the upload\n",
              " * process.\n",
              " * @param {string} inputId Element ID of the input file picker element.\n",
              " * @param {string} outputId Element ID of the output display.\n",
              " * @return {!Iterable<!Object>} Iterable of next steps.\n",
              " */\n",
              "function* uploadFilesStep(inputId, outputId) {\n",
              "  const inputElement = document.getElementById(inputId);\n",
              "  inputElement.disabled = false;\n",
              "\n",
              "  const outputElement = document.getElementById(outputId);\n",
              "  outputElement.innerHTML = '';\n",
              "\n",
              "  const pickedPromise = new Promise((resolve) => {\n",
              "    inputElement.addEventListener('change', (e) => {\n",
              "      resolve(e.target.files);\n",
              "    });\n",
              "  });\n",
              "\n",
              "  const cancel = document.createElement('button');\n",
              "  inputElement.parentElement.appendChild(cancel);\n",
              "  cancel.textContent = 'Cancel upload';\n",
              "  const cancelPromise = new Promise((resolve) => {\n",
              "    cancel.onclick = () => {\n",
              "      resolve(null);\n",
              "    };\n",
              "  });\n",
              "\n",
              "  // Wait for the user to pick the files.\n",
              "  const files = yield {\n",
              "    promise: Promise.race([pickedPromise, cancelPromise]),\n",
              "    response: {\n",
              "      action: 'starting',\n",
              "    }\n",
              "  };\n",
              "\n",
              "  cancel.remove();\n",
              "\n",
              "  // Disable the input element since further picks are not allowed.\n",
              "  inputElement.disabled = true;\n",
              "\n",
              "  if (!files) {\n",
              "    return {\n",
              "      response: {\n",
              "        action: 'complete',\n",
              "      }\n",
              "    };\n",
              "  }\n",
              "\n",
              "  for (const file of files) {\n",
              "    const li = document.createElement('li');\n",
              "    li.append(span(file.name, {fontWeight: 'bold'}));\n",
              "    li.append(span(\n",
              "        `(${file.type || 'n/a'}) - ${file.size} bytes, ` +\n",
              "        `last modified: ${\n",
              "            file.lastModifiedDate ? file.lastModifiedDate.toLocaleDateString() :\n",
              "                                    'n/a'} - `));\n",
              "    const percent = span('0% done');\n",
              "    li.appendChild(percent);\n",
              "\n",
              "    outputElement.appendChild(li);\n",
              "\n",
              "    const fileDataPromise = new Promise((resolve) => {\n",
              "      const reader = new FileReader();\n",
              "      reader.onload = (e) => {\n",
              "        resolve(e.target.result);\n",
              "      };\n",
              "      reader.readAsArrayBuffer(file);\n",
              "    });\n",
              "    // Wait for the data to be ready.\n",
              "    let fileData = yield {\n",
              "      promise: fileDataPromise,\n",
              "      response: {\n",
              "        action: 'continue',\n",
              "      }\n",
              "    };\n",
              "\n",
              "    // Use a chunked sending to avoid message size limits. See b/62115660.\n",
              "    let position = 0;\n",
              "    do {\n",
              "      const length = Math.min(fileData.byteLength - position, MAX_PAYLOAD_SIZE);\n",
              "      const chunk = new Uint8Array(fileData, position, length);\n",
              "      position += length;\n",
              "\n",
              "      const base64 = btoa(String.fromCharCode.apply(null, chunk));\n",
              "      yield {\n",
              "        response: {\n",
              "          action: 'append',\n",
              "          file: file.name,\n",
              "          data: base64,\n",
              "        },\n",
              "      };\n",
              "\n",
              "      let percentDone = fileData.byteLength === 0 ?\n",
              "          100 :\n",
              "          Math.round((position / fileData.byteLength) * 100);\n",
              "      percent.textContent = `${percentDone}% done`;\n",
              "\n",
              "    } while (position < fileData.byteLength);\n",
              "  }\n",
              "\n",
              "  // All done.\n",
              "  yield {\n",
              "    response: {\n",
              "      action: 'complete',\n",
              "    }\n",
              "  };\n",
              "}\n",
              "\n",
              "scope.google = scope.google || {};\n",
              "scope.google.colab = scope.google.colab || {};\n",
              "scope.google.colab._files = {\n",
              "  _uploadFiles,\n",
              "  _uploadFilesContinue,\n",
              "};\n",
              "})(self);\n",
              "</script> "
            ]
          },
          "metadata": {}
        },
        {
          "output_type": "stream",
          "name": "stdout",
          "text": [
            "Saving cneos_fireball_data.csv to cneos_fireball_data.csv\n"
          ]
        }
      ],
      "source": [
        "from google.colab import files\n",
        "uploaded = files.upload()"
      ]
    },
    {
      "cell_type": "code",
      "execution_count": 3,
      "metadata": {
        "id": "9_9imVxfvtl0"
      },
      "outputs": [],
      "source": [
        "fireball = pd.read_csv(\"cneos_fireball_data.csv\")"
      ]
    },
    {
      "cell_type": "code",
      "execution_count": 4,
      "metadata": {
        "colab": {
          "base_uri": "https://localhost:8080/",
          "height": 380
        },
        "id": "OBvFbaJHv1wV",
        "outputId": "8bb5d269-dbf0-483d-c46b-c4c742577ff6"
      },
      "outputs": [
        {
          "output_type": "execute_result",
          "data": {
            "text/plain": [
              "  Peak Brightness Date/Time (UT) Latitude (deg.) Longitude (deg.)  \\\n",
              "0            2023-10-16 17:14:52            6.5S            65.4W   \n",
              "1            2023-10-14 22:55:26            8.4S           161.9W   \n",
              "2            2023-09-28 20:32:35           13.2N            72.4E   \n",
              "3            2023-09-07 15:34:46           27.0N           150.8E   \n",
              "4            2023-09-03 04:28:01           43.2S           102.2E   \n",
              "5            2023-08-17 05:57:38           48.6N           100.1E   \n",
              "6            2023-08-05 19:54:50           19.9N           131.7W   \n",
              "7            2023-07-26 03:41:54           18.9N           103.4W   \n",
              "8            2023-07-07 16:15:31           14.5N           126.6W   \n",
              "9            2023-07-06 05:52:31           59.3S           145.4W   \n",
              "\n",
              "   Altitude (km)  Velocity (km/s)    vx    vy    vz  \\\n",
              "0           35.3             19.8 -12.2  14.9  -4.8   \n",
              "1           37.0             19.3  19.3  -0.4  -1.3   \n",
              "2           37.0              NaN   NaN   NaN   NaN   \n",
              "3            NaN              NaN   NaN   NaN   NaN   \n",
              "4           37.0              NaN   NaN   NaN   NaN   \n",
              "5           35.4             16.1   6.4 -12.5  -7.8   \n",
              "6           44.0             21.8   3.3  20.4  -6.8   \n",
              "7           36.1             15.6  -9.5  12.2   1.9   \n",
              "8           38.3             25.7   2.6   4.1 -25.2   \n",
              "9           71.0              NaN   NaN   NaN   NaN   \n",
              "\n",
              "   Total Radiated Energy (J)  Calculated Total Impact Energy (kt)  \n",
              "0               3.000000e+10                                0.100  \n",
              "1               5.400000e+10                                0.180  \n",
              "2               5.000000e+10                                0.160  \n",
              "3               2.100000e+10                                0.076  \n",
              "4               2.300000e+10                                0.082  \n",
              "5               8.100000e+10                                0.250  \n",
              "6               1.719000e+12                                3.800  \n",
              "7               1.510000e+11                                0.440  \n",
              "8               2.600000e+10                                0.092  \n",
              "9               3.000000e+10                                0.100  "
            ],
            "text/html": [
              "\n",
              "  <div id=\"df-10503267-83cf-44d7-a86c-4c0dd99e8e91\" class=\"colab-df-container\">\n",
              "    <div>\n",
              "<style scoped>\n",
              "    .dataframe tbody tr th:only-of-type {\n",
              "        vertical-align: middle;\n",
              "    }\n",
              "\n",
              "    .dataframe tbody tr th {\n",
              "        vertical-align: top;\n",
              "    }\n",
              "\n",
              "    .dataframe thead th {\n",
              "        text-align: right;\n",
              "    }\n",
              "</style>\n",
              "<table border=\"1\" class=\"dataframe\">\n",
              "  <thead>\n",
              "    <tr style=\"text-align: right;\">\n",
              "      <th></th>\n",
              "      <th>Peak Brightness Date/Time (UT)</th>\n",
              "      <th>Latitude (deg.)</th>\n",
              "      <th>Longitude (deg.)</th>\n",
              "      <th>Altitude (km)</th>\n",
              "      <th>Velocity (km/s)</th>\n",
              "      <th>vx</th>\n",
              "      <th>vy</th>\n",
              "      <th>vz</th>\n",
              "      <th>Total Radiated Energy (J)</th>\n",
              "      <th>Calculated Total Impact Energy (kt)</th>\n",
              "    </tr>\n",
              "  </thead>\n",
              "  <tbody>\n",
              "    <tr>\n",
              "      <th>0</th>\n",
              "      <td>2023-10-16 17:14:52</td>\n",
              "      <td>6.5S</td>\n",
              "      <td>65.4W</td>\n",
              "      <td>35.3</td>\n",
              "      <td>19.8</td>\n",
              "      <td>-12.2</td>\n",
              "      <td>14.9</td>\n",
              "      <td>-4.8</td>\n",
              "      <td>3.000000e+10</td>\n",
              "      <td>0.100</td>\n",
              "    </tr>\n",
              "    <tr>\n",
              "      <th>1</th>\n",
              "      <td>2023-10-14 22:55:26</td>\n",
              "      <td>8.4S</td>\n",
              "      <td>161.9W</td>\n",
              "      <td>37.0</td>\n",
              "      <td>19.3</td>\n",
              "      <td>19.3</td>\n",
              "      <td>-0.4</td>\n",
              "      <td>-1.3</td>\n",
              "      <td>5.400000e+10</td>\n",
              "      <td>0.180</td>\n",
              "    </tr>\n",
              "    <tr>\n",
              "      <th>2</th>\n",
              "      <td>2023-09-28 20:32:35</td>\n",
              "      <td>13.2N</td>\n",
              "      <td>72.4E</td>\n",
              "      <td>37.0</td>\n",
              "      <td>NaN</td>\n",
              "      <td>NaN</td>\n",
              "      <td>NaN</td>\n",
              "      <td>NaN</td>\n",
              "      <td>5.000000e+10</td>\n",
              "      <td>0.160</td>\n",
              "    </tr>\n",
              "    <tr>\n",
              "      <th>3</th>\n",
              "      <td>2023-09-07 15:34:46</td>\n",
              "      <td>27.0N</td>\n",
              "      <td>150.8E</td>\n",
              "      <td>NaN</td>\n",
              "      <td>NaN</td>\n",
              "      <td>NaN</td>\n",
              "      <td>NaN</td>\n",
              "      <td>NaN</td>\n",
              "      <td>2.100000e+10</td>\n",
              "      <td>0.076</td>\n",
              "    </tr>\n",
              "    <tr>\n",
              "      <th>4</th>\n",
              "      <td>2023-09-03 04:28:01</td>\n",
              "      <td>43.2S</td>\n",
              "      <td>102.2E</td>\n",
              "      <td>37.0</td>\n",
              "      <td>NaN</td>\n",
              "      <td>NaN</td>\n",
              "      <td>NaN</td>\n",
              "      <td>NaN</td>\n",
              "      <td>2.300000e+10</td>\n",
              "      <td>0.082</td>\n",
              "    </tr>\n",
              "    <tr>\n",
              "      <th>5</th>\n",
              "      <td>2023-08-17 05:57:38</td>\n",
              "      <td>48.6N</td>\n",
              "      <td>100.1E</td>\n",
              "      <td>35.4</td>\n",
              "      <td>16.1</td>\n",
              "      <td>6.4</td>\n",
              "      <td>-12.5</td>\n",
              "      <td>-7.8</td>\n",
              "      <td>8.100000e+10</td>\n",
              "      <td>0.250</td>\n",
              "    </tr>\n",
              "    <tr>\n",
              "      <th>6</th>\n",
              "      <td>2023-08-05 19:54:50</td>\n",
              "      <td>19.9N</td>\n",
              "      <td>131.7W</td>\n",
              "      <td>44.0</td>\n",
              "      <td>21.8</td>\n",
              "      <td>3.3</td>\n",
              "      <td>20.4</td>\n",
              "      <td>-6.8</td>\n",
              "      <td>1.719000e+12</td>\n",
              "      <td>3.800</td>\n",
              "    </tr>\n",
              "    <tr>\n",
              "      <th>7</th>\n",
              "      <td>2023-07-26 03:41:54</td>\n",
              "      <td>18.9N</td>\n",
              "      <td>103.4W</td>\n",
              "      <td>36.1</td>\n",
              "      <td>15.6</td>\n",
              "      <td>-9.5</td>\n",
              "      <td>12.2</td>\n",
              "      <td>1.9</td>\n",
              "      <td>1.510000e+11</td>\n",
              "      <td>0.440</td>\n",
              "    </tr>\n",
              "    <tr>\n",
              "      <th>8</th>\n",
              "      <td>2023-07-07 16:15:31</td>\n",
              "      <td>14.5N</td>\n",
              "      <td>126.6W</td>\n",
              "      <td>38.3</td>\n",
              "      <td>25.7</td>\n",
              "      <td>2.6</td>\n",
              "      <td>4.1</td>\n",
              "      <td>-25.2</td>\n",
              "      <td>2.600000e+10</td>\n",
              "      <td>0.092</td>\n",
              "    </tr>\n",
              "    <tr>\n",
              "      <th>9</th>\n",
              "      <td>2023-07-06 05:52:31</td>\n",
              "      <td>59.3S</td>\n",
              "      <td>145.4W</td>\n",
              "      <td>71.0</td>\n",
              "      <td>NaN</td>\n",
              "      <td>NaN</td>\n",
              "      <td>NaN</td>\n",
              "      <td>NaN</td>\n",
              "      <td>3.000000e+10</td>\n",
              "      <td>0.100</td>\n",
              "    </tr>\n",
              "  </tbody>\n",
              "</table>\n",
              "</div>\n",
              "    <div class=\"colab-df-buttons\">\n",
              "\n",
              "  <div class=\"colab-df-container\">\n",
              "    <button class=\"colab-df-convert\" onclick=\"convertToInteractive('df-10503267-83cf-44d7-a86c-4c0dd99e8e91')\"\n",
              "            title=\"Convert this dataframe to an interactive table.\"\n",
              "            style=\"display:none;\">\n",
              "\n",
              "  <svg xmlns=\"http://www.w3.org/2000/svg\" height=\"24px\" viewBox=\"0 -960 960 960\">\n",
              "    <path d=\"M120-120v-720h720v720H120Zm60-500h600v-160H180v160Zm220 220h160v-160H400v160Zm0 220h160v-160H400v160ZM180-400h160v-160H180v160Zm440 0h160v-160H620v160ZM180-180h160v-160H180v160Zm440 0h160v-160H620v160Z\"/>\n",
              "  </svg>\n",
              "    </button>\n",
              "\n",
              "  <style>\n",
              "    .colab-df-container {\n",
              "      display:flex;\n",
              "      gap: 12px;\n",
              "    }\n",
              "\n",
              "    .colab-df-convert {\n",
              "      background-color: #E8F0FE;\n",
              "      border: none;\n",
              "      border-radius: 50%;\n",
              "      cursor: pointer;\n",
              "      display: none;\n",
              "      fill: #1967D2;\n",
              "      height: 32px;\n",
              "      padding: 0 0 0 0;\n",
              "      width: 32px;\n",
              "    }\n",
              "\n",
              "    .colab-df-convert:hover {\n",
              "      background-color: #E2EBFA;\n",
              "      box-shadow: 0px 1px 2px rgba(60, 64, 67, 0.3), 0px 1px 3px 1px rgba(60, 64, 67, 0.15);\n",
              "      fill: #174EA6;\n",
              "    }\n",
              "\n",
              "    .colab-df-buttons div {\n",
              "      margin-bottom: 4px;\n",
              "    }\n",
              "\n",
              "    [theme=dark] .colab-df-convert {\n",
              "      background-color: #3B4455;\n",
              "      fill: #D2E3FC;\n",
              "    }\n",
              "\n",
              "    [theme=dark] .colab-df-convert:hover {\n",
              "      background-color: #434B5C;\n",
              "      box-shadow: 0px 1px 3px 1px rgba(0, 0, 0, 0.15);\n",
              "      filter: drop-shadow(0px 1px 2px rgba(0, 0, 0, 0.3));\n",
              "      fill: #FFFFFF;\n",
              "    }\n",
              "  </style>\n",
              "\n",
              "    <script>\n",
              "      const buttonEl =\n",
              "        document.querySelector('#df-10503267-83cf-44d7-a86c-4c0dd99e8e91 button.colab-df-convert');\n",
              "      buttonEl.style.display =\n",
              "        google.colab.kernel.accessAllowed ? 'block' : 'none';\n",
              "\n",
              "      async function convertToInteractive(key) {\n",
              "        const element = document.querySelector('#df-10503267-83cf-44d7-a86c-4c0dd99e8e91');\n",
              "        const dataTable =\n",
              "          await google.colab.kernel.invokeFunction('convertToInteractive',\n",
              "                                                    [key], {});\n",
              "        if (!dataTable) return;\n",
              "\n",
              "        const docLinkHtml = 'Like what you see? Visit the ' +\n",
              "          '<a target=\"_blank\" href=https://colab.research.google.com/notebooks/data_table.ipynb>data table notebook</a>'\n",
              "          + ' to learn more about interactive tables.';\n",
              "        element.innerHTML = '';\n",
              "        dataTable['output_type'] = 'display_data';\n",
              "        await google.colab.output.renderOutput(dataTable, element);\n",
              "        const docLink = document.createElement('div');\n",
              "        docLink.innerHTML = docLinkHtml;\n",
              "        element.appendChild(docLink);\n",
              "      }\n",
              "    </script>\n",
              "  </div>\n",
              "\n",
              "\n",
              "<div id=\"df-49072eec-ecdd-479d-aad4-1a02d9b6a34f\">\n",
              "  <button class=\"colab-df-quickchart\" onclick=\"quickchart('df-49072eec-ecdd-479d-aad4-1a02d9b6a34f')\"\n",
              "            title=\"Suggest charts.\"\n",
              "            style=\"display:none;\">\n",
              "\n",
              "<svg xmlns=\"http://www.w3.org/2000/svg\" height=\"24px\"viewBox=\"0 0 24 24\"\n",
              "     width=\"24px\">\n",
              "    <g>\n",
              "        <path d=\"M19 3H5c-1.1 0-2 .9-2 2v14c0 1.1.9 2 2 2h14c1.1 0 2-.9 2-2V5c0-1.1-.9-2-2-2zM9 17H7v-7h2v7zm4 0h-2V7h2v10zm4 0h-2v-4h2v4z\"/>\n",
              "    </g>\n",
              "</svg>\n",
              "  </button>\n",
              "\n",
              "<style>\n",
              "  .colab-df-quickchart {\n",
              "      --bg-color: #E8F0FE;\n",
              "      --fill-color: #1967D2;\n",
              "      --hover-bg-color: #E2EBFA;\n",
              "      --hover-fill-color: #174EA6;\n",
              "      --disabled-fill-color: #AAA;\n",
              "      --disabled-bg-color: #DDD;\n",
              "  }\n",
              "\n",
              "  [theme=dark] .colab-df-quickchart {\n",
              "      --bg-color: #3B4455;\n",
              "      --fill-color: #D2E3FC;\n",
              "      --hover-bg-color: #434B5C;\n",
              "      --hover-fill-color: #FFFFFF;\n",
              "      --disabled-bg-color: #3B4455;\n",
              "      --disabled-fill-color: #666;\n",
              "  }\n",
              "\n",
              "  .colab-df-quickchart {\n",
              "    background-color: var(--bg-color);\n",
              "    border: none;\n",
              "    border-radius: 50%;\n",
              "    cursor: pointer;\n",
              "    display: none;\n",
              "    fill: var(--fill-color);\n",
              "    height: 32px;\n",
              "    padding: 0;\n",
              "    width: 32px;\n",
              "  }\n",
              "\n",
              "  .colab-df-quickchart:hover {\n",
              "    background-color: var(--hover-bg-color);\n",
              "    box-shadow: 0 1px 2px rgba(60, 64, 67, 0.3), 0 1px 3px 1px rgba(60, 64, 67, 0.15);\n",
              "    fill: var(--button-hover-fill-color);\n",
              "  }\n",
              "\n",
              "  .colab-df-quickchart-complete:disabled,\n",
              "  .colab-df-quickchart-complete:disabled:hover {\n",
              "    background-color: var(--disabled-bg-color);\n",
              "    fill: var(--disabled-fill-color);\n",
              "    box-shadow: none;\n",
              "  }\n",
              "\n",
              "  .colab-df-spinner {\n",
              "    border: 2px solid var(--fill-color);\n",
              "    border-color: transparent;\n",
              "    border-bottom-color: var(--fill-color);\n",
              "    animation:\n",
              "      spin 1s steps(1) infinite;\n",
              "  }\n",
              "\n",
              "  @keyframes spin {\n",
              "    0% {\n",
              "      border-color: transparent;\n",
              "      border-bottom-color: var(--fill-color);\n",
              "      border-left-color: var(--fill-color);\n",
              "    }\n",
              "    20% {\n",
              "      border-color: transparent;\n",
              "      border-left-color: var(--fill-color);\n",
              "      border-top-color: var(--fill-color);\n",
              "    }\n",
              "    30% {\n",
              "      border-color: transparent;\n",
              "      border-left-color: var(--fill-color);\n",
              "      border-top-color: var(--fill-color);\n",
              "      border-right-color: var(--fill-color);\n",
              "    }\n",
              "    40% {\n",
              "      border-color: transparent;\n",
              "      border-right-color: var(--fill-color);\n",
              "      border-top-color: var(--fill-color);\n",
              "    }\n",
              "    60% {\n",
              "      border-color: transparent;\n",
              "      border-right-color: var(--fill-color);\n",
              "    }\n",
              "    80% {\n",
              "      border-color: transparent;\n",
              "      border-right-color: var(--fill-color);\n",
              "      border-bottom-color: var(--fill-color);\n",
              "    }\n",
              "    90% {\n",
              "      border-color: transparent;\n",
              "      border-bottom-color: var(--fill-color);\n",
              "    }\n",
              "  }\n",
              "</style>\n",
              "\n",
              "  <script>\n",
              "    async function quickchart(key) {\n",
              "      const quickchartButtonEl =\n",
              "        document.querySelector('#' + key + ' button');\n",
              "      quickchartButtonEl.disabled = true;  // To prevent multiple clicks.\n",
              "      quickchartButtonEl.classList.add('colab-df-spinner');\n",
              "      try {\n",
              "        const charts = await google.colab.kernel.invokeFunction(\n",
              "            'suggestCharts', [key], {});\n",
              "      } catch (error) {\n",
              "        console.error('Error during call to suggestCharts:', error);\n",
              "      }\n",
              "      quickchartButtonEl.classList.remove('colab-df-spinner');\n",
              "      quickchartButtonEl.classList.add('colab-df-quickchart-complete');\n",
              "    }\n",
              "    (() => {\n",
              "      let quickchartButtonEl =\n",
              "        document.querySelector('#df-49072eec-ecdd-479d-aad4-1a02d9b6a34f button');\n",
              "      quickchartButtonEl.style.display =\n",
              "        google.colab.kernel.accessAllowed ? 'block' : 'none';\n",
              "    })();\n",
              "  </script>\n",
              "</div>\n",
              "    </div>\n",
              "  </div>\n"
            ]
          },
          "metadata": {},
          "execution_count": 4
        }
      ],
      "source": [
        "fireball.head(10)"
      ]
    },
    {
      "cell_type": "markdown",
      "metadata": {
        "id": "nsW_LdkcxF9T"
      },
      "source": [
        "I would expect that all the data should be numerical except for datetime. It is unclear whether or not the data type is pd.Datetime. Looking at the first ten rows, however, I notice that lat and long have letters in them, which means they could be objects. The strings (N/S/E/W) that represent direction could be replaced by positive or negative numbers instead. All numerical values are continuous."
      ]
    },
    {
      "cell_type": "code",
      "execution_count": 5,
      "metadata": {
        "colab": {
          "base_uri": "https://localhost:8080/",
          "height": 0
        },
        "id": "57JfN22w6bKz",
        "outputId": "d71e6c18-a874-4862-8c4c-03672b87a5a8"
      },
      "outputs": [
        {
          "output_type": "execute_result",
          "data": {
            "text/plain": [
              "Peak Brightness Date/Time (UT)          object\n",
              "Latitude (deg.)                         object\n",
              "Longitude (deg.)                        object\n",
              "Altitude (km)                          float64\n",
              "Velocity (km/s)                        float64\n",
              "vx                                     float64\n",
              "vy                                     float64\n",
              "vz                                     float64\n",
              "Total Radiated Energy (J)              float64\n",
              "Calculated Total Impact Energy (kt)    float64\n",
              "dtype: object"
            ]
          },
          "metadata": {},
          "execution_count": 5
        }
      ],
      "source": [
        "fireball.dtypes\n",
        "#lat and long are objects! we must convert them"
      ]
    },
    {
      "cell_type": "code",
      "execution_count": 6,
      "metadata": {
        "id": "TzB3gB0-yIGD"
      },
      "outputs": [],
      "source": [
        "def convert_lat(latitude):\n",
        "    if isinstance(latitude, str):\n",
        "        if 'S' in latitude:\n",
        "            lat_number = float(latitude.split('S')[0])\n",
        "            return -lat_number\n",
        "        if 'N' in latitude:\n",
        "            lat_number = float(latitude.split('N')[0])\n",
        "            return lat_number\n",
        "        else:\n",
        "            return float(latitude)\n",
        "    elif isinstance(latitude, float):\n",
        "        return convert_lat(str(latitude))\n",
        "    else:\n",
        "        return latitude"
      ]
    },
    {
      "cell_type": "code",
      "execution_count": 7,
      "metadata": {
        "id": "Y67_GgtvyfP7"
      },
      "outputs": [],
      "source": [
        "def convert_long(longitude):\n",
        "  if isinstance(longitude,str):\n",
        "    if 'W' in longitude:\n",
        "      long_number = float(longitude.split('W')[0])\n",
        "      return -long_number\n",
        "    if 'E' in longitude:\n",
        "      long_number = float(longitude.split('E')[0])\n",
        "      return long_number\n",
        "    else:\n",
        "      return float(longitude)\n",
        "  elif isinstance(longitude, float):\n",
        "    return convert_long(str(longitude))\n",
        "  else:\n",
        "    return longitude"
      ]
    },
    {
      "cell_type": "code",
      "execution_count": 8,
      "metadata": {
        "id": "acJfr2E_2gjB"
      },
      "outputs": [],
      "source": [
        "fireball['Latitude (deg.)'] = fireball['Latitude (deg.)'].apply(convert_lat)"
      ]
    },
    {
      "cell_type": "code",
      "execution_count": 9,
      "metadata": {
        "id": "MAYLkymT2leX"
      },
      "outputs": [],
      "source": [
        "fireball['Longitude (deg.)'] = fireball['Longitude (deg.)'].apply(convert_long)"
      ]
    },
    {
      "cell_type": "code",
      "execution_count": 10,
      "metadata": {
        "colab": {
          "base_uri": "https://localhost:8080/",
          "height": 441
        },
        "id": "RO6dC9kK3i-0",
        "outputId": "f21539c4-9ef0-4c87-cfcf-232da198cf35"
      },
      "outputs": [
        {
          "output_type": "execute_result",
          "data": {
            "text/plain": [
              "    Peak Brightness Date/Time (UT)  Latitude (deg.)  Longitude (deg.)  \\\n",
              "0              2023-10-16 17:14:52             -6.5             -65.4   \n",
              "1              2023-10-14 22:55:26             -8.4            -161.9   \n",
              "2              2023-09-28 20:32:35             13.2              72.4   \n",
              "3              2023-09-07 15:34:46             27.0             150.8   \n",
              "4              2023-09-03 04:28:01            -43.2             102.2   \n",
              "..                             ...              ...               ...   \n",
              "961            1993-11-29 17:48:41             26.5              78.3   \n",
              "962            1993-10-31 03:39:27             51.3            -100.9   \n",
              "963            1991-10-04 09:22:47             78.7               6.3   \n",
              "964            1990-10-01 03:51:47              7.5             142.8   \n",
              "965            1988-04-15 03:03:10             -4.1             124.3   \n",
              "\n",
              "     Altitude (km)  Velocity (km/s)    vx    vy   vz  \\\n",
              "0             35.3             19.8 -12.2  14.9 -4.8   \n",
              "1             37.0             19.3  19.3  -0.4 -1.3   \n",
              "2             37.0              NaN   NaN   NaN  NaN   \n",
              "3              NaN              NaN   NaN   NaN  NaN   \n",
              "4             37.0              NaN   NaN   NaN  NaN   \n",
              "..             ...              ...   ...   ...  ...   \n",
              "961            NaN              NaN   NaN   NaN  NaN   \n",
              "962            NaN              NaN   NaN   NaN  NaN   \n",
              "963            NaN              NaN   NaN   NaN  NaN   \n",
              "964            NaN              NaN   NaN   NaN  NaN   \n",
              "965            NaN              NaN   NaN   NaN  NaN   \n",
              "\n",
              "     Total Radiated Energy (J)  Calculated Total Impact Energy (kt)  \n",
              "0                 3.000000e+10                                0.100  \n",
              "1                 5.400000e+10                                0.180  \n",
              "2                 5.000000e+10                                0.160  \n",
              "3                 2.100000e+10                                0.076  \n",
              "4                 2.300000e+10                                0.082  \n",
              "..                         ...                                  ...  \n",
              "961               2.600000e+10                                0.092  \n",
              "962               4.000000e+10                                0.130  \n",
              "963               5.500000e+11                                1.400  \n",
              "964               2.500000e+12                                5.200  \n",
              "965               7.580000e+12                               14.000  \n",
              "\n",
              "[966 rows x 10 columns]"
            ],
            "text/html": [
              "\n",
              "  <div id=\"df-793d16d4-bca4-49a0-a319-84152300a631\" class=\"colab-df-container\">\n",
              "    <div>\n",
              "<style scoped>\n",
              "    .dataframe tbody tr th:only-of-type {\n",
              "        vertical-align: middle;\n",
              "    }\n",
              "\n",
              "    .dataframe tbody tr th {\n",
              "        vertical-align: top;\n",
              "    }\n",
              "\n",
              "    .dataframe thead th {\n",
              "        text-align: right;\n",
              "    }\n",
              "</style>\n",
              "<table border=\"1\" class=\"dataframe\">\n",
              "  <thead>\n",
              "    <tr style=\"text-align: right;\">\n",
              "      <th></th>\n",
              "      <th>Peak Brightness Date/Time (UT)</th>\n",
              "      <th>Latitude (deg.)</th>\n",
              "      <th>Longitude (deg.)</th>\n",
              "      <th>Altitude (km)</th>\n",
              "      <th>Velocity (km/s)</th>\n",
              "      <th>vx</th>\n",
              "      <th>vy</th>\n",
              "      <th>vz</th>\n",
              "      <th>Total Radiated Energy (J)</th>\n",
              "      <th>Calculated Total Impact Energy (kt)</th>\n",
              "    </tr>\n",
              "  </thead>\n",
              "  <tbody>\n",
              "    <tr>\n",
              "      <th>0</th>\n",
              "      <td>2023-10-16 17:14:52</td>\n",
              "      <td>-6.5</td>\n",
              "      <td>-65.4</td>\n",
              "      <td>35.3</td>\n",
              "      <td>19.8</td>\n",
              "      <td>-12.2</td>\n",
              "      <td>14.9</td>\n",
              "      <td>-4.8</td>\n",
              "      <td>3.000000e+10</td>\n",
              "      <td>0.100</td>\n",
              "    </tr>\n",
              "    <tr>\n",
              "      <th>1</th>\n",
              "      <td>2023-10-14 22:55:26</td>\n",
              "      <td>-8.4</td>\n",
              "      <td>-161.9</td>\n",
              "      <td>37.0</td>\n",
              "      <td>19.3</td>\n",
              "      <td>19.3</td>\n",
              "      <td>-0.4</td>\n",
              "      <td>-1.3</td>\n",
              "      <td>5.400000e+10</td>\n",
              "      <td>0.180</td>\n",
              "    </tr>\n",
              "    <tr>\n",
              "      <th>2</th>\n",
              "      <td>2023-09-28 20:32:35</td>\n",
              "      <td>13.2</td>\n",
              "      <td>72.4</td>\n",
              "      <td>37.0</td>\n",
              "      <td>NaN</td>\n",
              "      <td>NaN</td>\n",
              "      <td>NaN</td>\n",
              "      <td>NaN</td>\n",
              "      <td>5.000000e+10</td>\n",
              "      <td>0.160</td>\n",
              "    </tr>\n",
              "    <tr>\n",
              "      <th>3</th>\n",
              "      <td>2023-09-07 15:34:46</td>\n",
              "      <td>27.0</td>\n",
              "      <td>150.8</td>\n",
              "      <td>NaN</td>\n",
              "      <td>NaN</td>\n",
              "      <td>NaN</td>\n",
              "      <td>NaN</td>\n",
              "      <td>NaN</td>\n",
              "      <td>2.100000e+10</td>\n",
              "      <td>0.076</td>\n",
              "    </tr>\n",
              "    <tr>\n",
              "      <th>4</th>\n",
              "      <td>2023-09-03 04:28:01</td>\n",
              "      <td>-43.2</td>\n",
              "      <td>102.2</td>\n",
              "      <td>37.0</td>\n",
              "      <td>NaN</td>\n",
              "      <td>NaN</td>\n",
              "      <td>NaN</td>\n",
              "      <td>NaN</td>\n",
              "      <td>2.300000e+10</td>\n",
              "      <td>0.082</td>\n",
              "    </tr>\n",
              "    <tr>\n",
              "      <th>...</th>\n",
              "      <td>...</td>\n",
              "      <td>...</td>\n",
              "      <td>...</td>\n",
              "      <td>...</td>\n",
              "      <td>...</td>\n",
              "      <td>...</td>\n",
              "      <td>...</td>\n",
              "      <td>...</td>\n",
              "      <td>...</td>\n",
              "      <td>...</td>\n",
              "    </tr>\n",
              "    <tr>\n",
              "      <th>961</th>\n",
              "      <td>1993-11-29 17:48:41</td>\n",
              "      <td>26.5</td>\n",
              "      <td>78.3</td>\n",
              "      <td>NaN</td>\n",
              "      <td>NaN</td>\n",
              "      <td>NaN</td>\n",
              "      <td>NaN</td>\n",
              "      <td>NaN</td>\n",
              "      <td>2.600000e+10</td>\n",
              "      <td>0.092</td>\n",
              "    </tr>\n",
              "    <tr>\n",
              "      <th>962</th>\n",
              "      <td>1993-10-31 03:39:27</td>\n",
              "      <td>51.3</td>\n",
              "      <td>-100.9</td>\n",
              "      <td>NaN</td>\n",
              "      <td>NaN</td>\n",
              "      <td>NaN</td>\n",
              "      <td>NaN</td>\n",
              "      <td>NaN</td>\n",
              "      <td>4.000000e+10</td>\n",
              "      <td>0.130</td>\n",
              "    </tr>\n",
              "    <tr>\n",
              "      <th>963</th>\n",
              "      <td>1991-10-04 09:22:47</td>\n",
              "      <td>78.7</td>\n",
              "      <td>6.3</td>\n",
              "      <td>NaN</td>\n",
              "      <td>NaN</td>\n",
              "      <td>NaN</td>\n",
              "      <td>NaN</td>\n",
              "      <td>NaN</td>\n",
              "      <td>5.500000e+11</td>\n",
              "      <td>1.400</td>\n",
              "    </tr>\n",
              "    <tr>\n",
              "      <th>964</th>\n",
              "      <td>1990-10-01 03:51:47</td>\n",
              "      <td>7.5</td>\n",
              "      <td>142.8</td>\n",
              "      <td>NaN</td>\n",
              "      <td>NaN</td>\n",
              "      <td>NaN</td>\n",
              "      <td>NaN</td>\n",
              "      <td>NaN</td>\n",
              "      <td>2.500000e+12</td>\n",
              "      <td>5.200</td>\n",
              "    </tr>\n",
              "    <tr>\n",
              "      <th>965</th>\n",
              "      <td>1988-04-15 03:03:10</td>\n",
              "      <td>-4.1</td>\n",
              "      <td>124.3</td>\n",
              "      <td>NaN</td>\n",
              "      <td>NaN</td>\n",
              "      <td>NaN</td>\n",
              "      <td>NaN</td>\n",
              "      <td>NaN</td>\n",
              "      <td>7.580000e+12</td>\n",
              "      <td>14.000</td>\n",
              "    </tr>\n",
              "  </tbody>\n",
              "</table>\n",
              "<p>966 rows × 10 columns</p>\n",
              "</div>\n",
              "    <div class=\"colab-df-buttons\">\n",
              "\n",
              "  <div class=\"colab-df-container\">\n",
              "    <button class=\"colab-df-convert\" onclick=\"convertToInteractive('df-793d16d4-bca4-49a0-a319-84152300a631')\"\n",
              "            title=\"Convert this dataframe to an interactive table.\"\n",
              "            style=\"display:none;\">\n",
              "\n",
              "  <svg xmlns=\"http://www.w3.org/2000/svg\" height=\"24px\" viewBox=\"0 -960 960 960\">\n",
              "    <path d=\"M120-120v-720h720v720H120Zm60-500h600v-160H180v160Zm220 220h160v-160H400v160Zm0 220h160v-160H400v160ZM180-400h160v-160H180v160Zm440 0h160v-160H620v160ZM180-180h160v-160H180v160Zm440 0h160v-160H620v160Z\"/>\n",
              "  </svg>\n",
              "    </button>\n",
              "\n",
              "  <style>\n",
              "    .colab-df-container {\n",
              "      display:flex;\n",
              "      gap: 12px;\n",
              "    }\n",
              "\n",
              "    .colab-df-convert {\n",
              "      background-color: #E8F0FE;\n",
              "      border: none;\n",
              "      border-radius: 50%;\n",
              "      cursor: pointer;\n",
              "      display: none;\n",
              "      fill: #1967D2;\n",
              "      height: 32px;\n",
              "      padding: 0 0 0 0;\n",
              "      width: 32px;\n",
              "    }\n",
              "\n",
              "    .colab-df-convert:hover {\n",
              "      background-color: #E2EBFA;\n",
              "      box-shadow: 0px 1px 2px rgba(60, 64, 67, 0.3), 0px 1px 3px 1px rgba(60, 64, 67, 0.15);\n",
              "      fill: #174EA6;\n",
              "    }\n",
              "\n",
              "    .colab-df-buttons div {\n",
              "      margin-bottom: 4px;\n",
              "    }\n",
              "\n",
              "    [theme=dark] .colab-df-convert {\n",
              "      background-color: #3B4455;\n",
              "      fill: #D2E3FC;\n",
              "    }\n",
              "\n",
              "    [theme=dark] .colab-df-convert:hover {\n",
              "      background-color: #434B5C;\n",
              "      box-shadow: 0px 1px 3px 1px rgba(0, 0, 0, 0.15);\n",
              "      filter: drop-shadow(0px 1px 2px rgba(0, 0, 0, 0.3));\n",
              "      fill: #FFFFFF;\n",
              "    }\n",
              "  </style>\n",
              "\n",
              "    <script>\n",
              "      const buttonEl =\n",
              "        document.querySelector('#df-793d16d4-bca4-49a0-a319-84152300a631 button.colab-df-convert');\n",
              "      buttonEl.style.display =\n",
              "        google.colab.kernel.accessAllowed ? 'block' : 'none';\n",
              "\n",
              "      async function convertToInteractive(key) {\n",
              "        const element = document.querySelector('#df-793d16d4-bca4-49a0-a319-84152300a631');\n",
              "        const dataTable =\n",
              "          await google.colab.kernel.invokeFunction('convertToInteractive',\n",
              "                                                    [key], {});\n",
              "        if (!dataTable) return;\n",
              "\n",
              "        const docLinkHtml = 'Like what you see? Visit the ' +\n",
              "          '<a target=\"_blank\" href=https://colab.research.google.com/notebooks/data_table.ipynb>data table notebook</a>'\n",
              "          + ' to learn more about interactive tables.';\n",
              "        element.innerHTML = '';\n",
              "        dataTable['output_type'] = 'display_data';\n",
              "        await google.colab.output.renderOutput(dataTable, element);\n",
              "        const docLink = document.createElement('div');\n",
              "        docLink.innerHTML = docLinkHtml;\n",
              "        element.appendChild(docLink);\n",
              "      }\n",
              "    </script>\n",
              "  </div>\n",
              "\n",
              "\n",
              "<div id=\"df-5c63a924-fe4f-4019-9cf5-c7f637791272\">\n",
              "  <button class=\"colab-df-quickchart\" onclick=\"quickchart('df-5c63a924-fe4f-4019-9cf5-c7f637791272')\"\n",
              "            title=\"Suggest charts.\"\n",
              "            style=\"display:none;\">\n",
              "\n",
              "<svg xmlns=\"http://www.w3.org/2000/svg\" height=\"24px\"viewBox=\"0 0 24 24\"\n",
              "     width=\"24px\">\n",
              "    <g>\n",
              "        <path d=\"M19 3H5c-1.1 0-2 .9-2 2v14c0 1.1.9 2 2 2h14c1.1 0 2-.9 2-2V5c0-1.1-.9-2-2-2zM9 17H7v-7h2v7zm4 0h-2V7h2v10zm4 0h-2v-4h2v4z\"/>\n",
              "    </g>\n",
              "</svg>\n",
              "  </button>\n",
              "\n",
              "<style>\n",
              "  .colab-df-quickchart {\n",
              "      --bg-color: #E8F0FE;\n",
              "      --fill-color: #1967D2;\n",
              "      --hover-bg-color: #E2EBFA;\n",
              "      --hover-fill-color: #174EA6;\n",
              "      --disabled-fill-color: #AAA;\n",
              "      --disabled-bg-color: #DDD;\n",
              "  }\n",
              "\n",
              "  [theme=dark] .colab-df-quickchart {\n",
              "      --bg-color: #3B4455;\n",
              "      --fill-color: #D2E3FC;\n",
              "      --hover-bg-color: #434B5C;\n",
              "      --hover-fill-color: #FFFFFF;\n",
              "      --disabled-bg-color: #3B4455;\n",
              "      --disabled-fill-color: #666;\n",
              "  }\n",
              "\n",
              "  .colab-df-quickchart {\n",
              "    background-color: var(--bg-color);\n",
              "    border: none;\n",
              "    border-radius: 50%;\n",
              "    cursor: pointer;\n",
              "    display: none;\n",
              "    fill: var(--fill-color);\n",
              "    height: 32px;\n",
              "    padding: 0;\n",
              "    width: 32px;\n",
              "  }\n",
              "\n",
              "  .colab-df-quickchart:hover {\n",
              "    background-color: var(--hover-bg-color);\n",
              "    box-shadow: 0 1px 2px rgba(60, 64, 67, 0.3), 0 1px 3px 1px rgba(60, 64, 67, 0.15);\n",
              "    fill: var(--button-hover-fill-color);\n",
              "  }\n",
              "\n",
              "  .colab-df-quickchart-complete:disabled,\n",
              "  .colab-df-quickchart-complete:disabled:hover {\n",
              "    background-color: var(--disabled-bg-color);\n",
              "    fill: var(--disabled-fill-color);\n",
              "    box-shadow: none;\n",
              "  }\n",
              "\n",
              "  .colab-df-spinner {\n",
              "    border: 2px solid var(--fill-color);\n",
              "    border-color: transparent;\n",
              "    border-bottom-color: var(--fill-color);\n",
              "    animation:\n",
              "      spin 1s steps(1) infinite;\n",
              "  }\n",
              "\n",
              "  @keyframes spin {\n",
              "    0% {\n",
              "      border-color: transparent;\n",
              "      border-bottom-color: var(--fill-color);\n",
              "      border-left-color: var(--fill-color);\n",
              "    }\n",
              "    20% {\n",
              "      border-color: transparent;\n",
              "      border-left-color: var(--fill-color);\n",
              "      border-top-color: var(--fill-color);\n",
              "    }\n",
              "    30% {\n",
              "      border-color: transparent;\n",
              "      border-left-color: var(--fill-color);\n",
              "      border-top-color: var(--fill-color);\n",
              "      border-right-color: var(--fill-color);\n",
              "    }\n",
              "    40% {\n",
              "      border-color: transparent;\n",
              "      border-right-color: var(--fill-color);\n",
              "      border-top-color: var(--fill-color);\n",
              "    }\n",
              "    60% {\n",
              "      border-color: transparent;\n",
              "      border-right-color: var(--fill-color);\n",
              "    }\n",
              "    80% {\n",
              "      border-color: transparent;\n",
              "      border-right-color: var(--fill-color);\n",
              "      border-bottom-color: var(--fill-color);\n",
              "    }\n",
              "    90% {\n",
              "      border-color: transparent;\n",
              "      border-bottom-color: var(--fill-color);\n",
              "    }\n",
              "  }\n",
              "</style>\n",
              "\n",
              "  <script>\n",
              "    async function quickchart(key) {\n",
              "      const quickchartButtonEl =\n",
              "        document.querySelector('#' + key + ' button');\n",
              "      quickchartButtonEl.disabled = true;  // To prevent multiple clicks.\n",
              "      quickchartButtonEl.classList.add('colab-df-spinner');\n",
              "      try {\n",
              "        const charts = await google.colab.kernel.invokeFunction(\n",
              "            'suggestCharts', [key], {});\n",
              "      } catch (error) {\n",
              "        console.error('Error during call to suggestCharts:', error);\n",
              "      }\n",
              "      quickchartButtonEl.classList.remove('colab-df-spinner');\n",
              "      quickchartButtonEl.classList.add('colab-df-quickchart-complete');\n",
              "    }\n",
              "    (() => {\n",
              "      let quickchartButtonEl =\n",
              "        document.querySelector('#df-5c63a924-fe4f-4019-9cf5-c7f637791272 button');\n",
              "      quickchartButtonEl.style.display =\n",
              "        google.colab.kernel.accessAllowed ? 'block' : 'none';\n",
              "    })();\n",
              "  </script>\n",
              "</div>\n",
              "    </div>\n",
              "  </div>\n"
            ]
          },
          "metadata": {},
          "execution_count": 10
        }
      ],
      "source": [
        "fireball"
      ]
    },
    {
      "cell_type": "code",
      "execution_count": 11,
      "metadata": {
        "colab": {
          "base_uri": "https://localhost:8080/",
          "height": 0
        },
        "id": "G_RG2REG5sqi",
        "outputId": "4931136a-7152-4782-bde3-ad6c93735abb"
      },
      "outputs": [
        {
          "output_type": "execute_result",
          "data": {
            "text/plain": [
              "Peak Brightness Date/Time (UT)          object\n",
              "Latitude (deg.)                        float64\n",
              "Longitude (deg.)                       float64\n",
              "Altitude (km)                          float64\n",
              "Velocity (km/s)                        float64\n",
              "vx                                     float64\n",
              "vy                                     float64\n",
              "vz                                     float64\n",
              "Total Radiated Energy (J)              float64\n",
              "Calculated Total Impact Energy (kt)    float64\n",
              "dtype: object"
            ]
          },
          "metadata": {},
          "execution_count": 11
        }
      ],
      "source": [
        "fireball.dtypes\n",
        "#now lat and long are floats; we have kept NaN values as they are"
      ]
    },
    {
      "cell_type": "code",
      "execution_count": 12,
      "metadata": {
        "id": "mIgPPo-j5uct"
      },
      "outputs": [],
      "source": [
        "fireball['Peak Brightness Date/Time (UT)'] = pd.to_datetime(fireball['Peak Brightness Date/Time (UT)'])"
      ]
    },
    {
      "cell_type": "markdown",
      "metadata": {
        "id": "SgeDyjPgWCJC"
      },
      "source": [
        "The dates are left skewed. There are more records of fireballs since the 2000s. That may be due to technological developments post 2000."
      ]
    },
    {
      "cell_type": "code",
      "execution_count": 31,
      "metadata": {
        "colab": {
          "base_uri": "https://localhost:8080/",
          "height": 738
        },
        "id": "fF27hIrSV2HZ",
        "outputId": "2726f010-b8db-490a-9894-b6f288de7234"
      },
      "outputs": [
        {
          "output_type": "execute_result",
          "data": {
            "text/plain": [
              "(array([ 0.,  5., 10., 15., 20., 25., 30., 35.]),\n",
              " [Text(0, 0.0, '0'),\n",
              "  Text(0, 5.0, '5'),\n",
              "  Text(0, 10.0, '10'),\n",
              "  Text(0, 15.0, '15'),\n",
              "  Text(0, 20.0, '20'),\n",
              "  Text(0, 25.0, '25'),\n",
              "  Text(0, 30.0, '30'),\n",
              "  Text(0, 35.0, '35')])"
            ]
          },
          "metadata": {},
          "execution_count": 31
        },
        {
          "output_type": "display_data",
          "data": {
            "text/plain": [
              "<Figure size 800x600 with 1 Axes>"
            ],
            "image/png": "[encoded data removed]"
          },
          "metadata": {}
        }
      ],
      "source": [
        "fig, ax = plt.subplots(figsize=(8,6))\n",
        "plt.hist(fireball['Longitude (deg.)'],35)\n",
        "plt.title('Histogram of Longitudes',fontsize=20)\n",
        "plt.xlabel('Longitudes',fontsize=15)\n",
        "plt.ylabel('Frequency',fontsize=15)\n",
        "plt.xticks(fontsize=12)\n",
        "plt.yticks(fontsize=12)\n",
        "\n",
        "#make plots wider apart + set titles + labels"
      ]
    },
    {
      "cell_type": "markdown",
      "source": [
        "The graph is essentially uniform. This makes sense as each longitude has equal area, unlike latitudes. Thus, in theory, each degree of the earth is equally likely to be hit by a fireball."
      ],
      "metadata": {
        "id": "dpqQD0KLcS4d"
      }
    },
    {
      "cell_type": "code",
      "source": [
        "fig, ax = plt.subplots(figsize=(8,6))\n",
        "plt.hist(fireball['Latitude (deg.)'],35)\n",
        "plt.title('Histogram of Latitudes',fontsize=20)\n",
        "plt.xlabel('Latitudes',fontsize=15)\n",
        "plt.ylabel('Frequency',fontsize=15)\n",
        "plt.xticks(fontsize=12)\n",
        "plt.yticks(fontsize=12)"
      ],
      "metadata": {
        "colab": {
          "base_uri": "https://localhost:8080/",
          "height": 773
        },
        "id": "Y11vJEDlbhKV",
        "outputId": "e20ea086-473a-406b-eb2f-74086996ed0e"
      },
      "execution_count": 32,
      "outputs": [
        {
          "output_type": "execute_result",
          "data": {
            "text/plain": [
              "(array([ 0.,  5., 10., 15., 20., 25., 30., 35., 40., 45.]),\n",
              " [Text(0, 0.0, '0'),\n",
              "  Text(0, 5.0, '5'),\n",
              "  Text(0, 10.0, '10'),\n",
              "  Text(0, 15.0, '15'),\n",
              "  Text(0, 20.0, '20'),\n",
              "  Text(0, 25.0, '25'),\n",
              "  Text(0, 30.0, '30'),\n",
              "  Text(0, 35.0, '35'),\n",
              "  Text(0, 40.0, '40'),\n",
              "  Text(0, 45.0, '45')])"
            ]
          },
          "metadata": {},
          "execution_count": 32
        },
        {
          "output_type": "display_data",
          "data": {
            "text/plain": [
              "<Figure size 800x600 with 1 Axes>"
            ],
            "image/png": "[encoded data removed]"
          },
          "metadata": {}
        }
      ]
    },
    {
      "cell_type": "markdown",
      "metadata": {
        "id": "I6CHXWJja0X-"
      },
      "source": [
        "It looks like the graph is unimodal and symmetric around the center at the equator. There is a significant reduction in frequency after -50 and 50 degrees. The shape of the graph makes sense there is more surface area near the equator, and thus there is a higher likelihood that fireballs will land there.The weird dips in the histogram are likely a result of the size of the bins."
      ]
    },
    {
      "cell_type": "code",
      "execution_count": 33,
      "metadata": {
        "colab": {
          "base_uri": "https://localhost:8080/",
          "height": 753
        },
        "id": "jN1Jx7uDXKwo",
        "outputId": "06ee7268-a672-4498-ac66-6e2c2fc22503"
      },
      "outputs": [
        {
          "output_type": "execute_result",
          "data": {
            "text/plain": [
              "<matplotlib.collections.PathCollection at 0x7c88b3511a20>"
            ]
          },
          "metadata": {},
          "execution_count": 33
        },
        {
          "output_type": "display_data",
          "data": {
            "text/plain": [
              "<Figure size 1000x800 with 1 Axes>"
            ],
            "image/png": "[encoded data removed]"
          },
          "metadata": {}
        }
      ],
      "source": [
        "# Calculated Total Impact Energy (kt)\n",
        "fig, ax = plt.subplots(figsize=(10,8))\n",
        "plt.hist(fireball['Calculated Total Impact Energy (kt)'],50)\n",
        "plt.title('Histogram of Energy Impact',fontsize=20)\n",
        "plt.xlabel('Energy Impact in Kt',fontsize=15)\n",
        "plt.ylabel('Frequency',fontsize=15)\n",
        "plt.xticks(fontsize=12)\n",
        "plt.yticks(fontsize=12)\n",
        "plt.text(375,20,'Chelaybinsk Meteor')\n",
        "plt.scatter(435,10,color='red')"
      ]
    },
    {
      "cell_type": "markdown",
      "metadata": {
        "id": "he500OK_gE1c"
      },
      "source": [
        "The Chelyabinsk meteor was a 18m wide superbolide that entered Earth's atmosphere over the southern Ural region in Russia on 15 February 2013 and had an impact of 440 kt of energy. The second highest impact is 49, which is the fourth bin on the right. I expected this because most fireballs are not detectable on Earth without proper equipment. I assumed one or two had higher energy impacts that made the news."
      ]
    },
    {
      "cell_type": "code",
      "execution_count": 15,
      "metadata": {
        "id": "o_tmoH7Lj7p6"
      },
      "outputs": [],
      "source": [
        "fireball['log_energy_impact'] = np.log10(fireball['Calculated Total Impact Energy (kt)'])"
      ]
    },
    {
      "cell_type": "code",
      "execution_count": 16,
      "metadata": {
        "colab": {
          "base_uri": "https://localhost:8080/",
          "height": 753
        },
        "id": "g7Qpc8m5kaOD",
        "outputId": "b1fab640-94e1-44b2-dac1-ee320434cdfa"
      },
      "outputs": [
        {
          "output_type": "execute_result",
          "data": {
            "text/plain": [
              "<matplotlib.collections.PathCollection at 0x7c88bc582e00>"
            ]
          },
          "metadata": {},
          "execution_count": 16
        },
        {
          "output_type": "display_data",
          "data": {
            "text/plain": [
              "<Figure size 1000x800 with 1 Axes>"
            ],
            "image/png": "[encoded data removed]"
          },
          "metadata": {}
        }
      ],
      "source": [
        "fig, ax = plt.subplots(figsize=(10,8))\n",
        "plt.hist(fireball['log_energy_impact'],25)\n",
        "plt.title('Histogram of Energy Impact',fontsize=20)\n",
        "plt.xlabel('Log(Energy Impact) in Kt',fontsize=15)\n",
        "regular_x_ticks = [-1,0,1,2]\n",
        "regular_x_labels = ['0.1', '1', '10', '100']\n",
        "plt.xticks(regular_x_ticks, regular_x_labels, fontsize=12)\n",
        "plt.ylabel('Frequency',fontsize=15)\n",
        "plt.yticks(fontsize=12)\n",
        "plt.text(2,10,'Chelaybinsk Meteor')\n",
        "plt.scatter(2.57,3,color='red')"
      ]
    },
    {
      "cell_type": "markdown",
      "metadata": {
        "id": "VNmtfinolxnr"
      },
      "source": [
        "The graph remains unimodal and right skewed, but now we can see the frequency of middle values. Log(440) = 6.08, which still stands out as an outlier. Around 90% of impacts are below 0 log(kt) = 1. See calculation for this claim below."
      ]
    },
    {
      "cell_type": "code",
      "execution_count": 17,
      "metadata": {
        "colab": {
          "base_uri": "https://localhost:8080/",
          "height": 0
        },
        "id": "7RUeN7X9l26V",
        "outputId": "6000ce66-01ed-4cfb-962c-654b467881ea"
      },
      "outputs": [
        {
          "output_type": "execute_result",
          "data": {
            "text/plain": [
              "0.8985507246376812"
            ]
          },
          "metadata": {},
          "execution_count": 17
        }
      ],
      "source": [
        "fireball['log_energy_impact'].loc[fireball['log_energy_impact']<=0].count()/len(fireball)"
      ]
    },
    {
      "cell_type": "code",
      "execution_count": 18,
      "metadata": {
        "colab": {
          "base_uri": "https://localhost:8080/",
          "height": 0
        },
        "id": "MGDP2mqME-XP",
        "outputId": "bac70cd7-a6c2-47b4-ba2c-5e4d1f6632bc"
      },
      "outputs": [
        {
          "output_type": "execute_result",
          "data": {
            "text/plain": [
              "359.7"
            ]
          },
          "metadata": {},
          "execution_count": 18
        }
      ],
      "source": [
        "max(fireball['Longitude (deg.)'])-min(fireball['Longitude (deg.)'])"
      ]
    },
    {
      "cell_type": "code",
      "execution_count": 19,
      "metadata": {
        "colab": {
          "base_uri": "https://localhost:8080/",
          "height": 0
        },
        "id": "QHrJ0t_MGhFQ",
        "outputId": "c9c1bbec-db9d-4581-a33d-995c3026772e"
      },
      "outputs": [
        {
          "output_type": "stream",
          "name": "stdout",
          "text": [
            "Requirement already satisfied: scipy in /usr/local/lib/python3.10/dist-packages (1.11.3)\n",
            "Requirement already satisfied: numpy<1.28.0,>=1.21.6 in /usr/local/lib/python3.10/dist-packages (from scipy) (1.23.5)\n"
          ]
        }
      ],
      "source": [
        "%pip install scipy\n",
        "from scipy.stats import poisson\n",
        "import scipy"
      ]
    },
    {
      "cell_type": "code",
      "execution_count": 20,
      "metadata": {
        "colab": {
          "base_uri": "https://localhost:8080/",
          "height": 430
        },
        "id": "85EFwObdHcf9",
        "outputId": "d90416ff-811c-481d-b4bc-cbf7b424544f"
      },
      "outputs": [
        {
          "output_type": "display_data",
          "data": {
            "text/plain": [
              "<Figure size 640x480 with 1 Axes>"
            ],
            "image/png": "[encoded data removed]"
          },
          "metadata": {}
        }
      ],
      "source": [
        "scipy.stats.poisson\n",
        "mu = len(fireball)/360\n",
        "x = np.arange(0,15)\n",
        "fig, ax = plt.subplots(1, 1)\n",
        "ax.plot(x, poisson.pmf(x, mu), 'bo', ms=8, label='poisson pmf')\n",
        "ax.vlines(x, 0, poisson.pmf(x, mu), colors='b', lw=5, alpha=0.5)\n",
        "plt.show()"
      ]
    },
    {
      "cell_type": "code",
      "execution_count": 21,
      "metadata": {
        "colab": {
          "base_uri": "https://localhost:8080/",
          "height": 495
        },
        "id": "QaqgeElXrHTT",
        "outputId": "f778c2b1-d3b2-48ee-9619-83ec1d92fff4"
      },
      "outputs": [
        {
          "output_type": "execute_result",
          "data": {
            "text/plain": [
              "Text(0.5, 1.0, 'Histogram of Longitude Histogram')"
            ]
          },
          "metadata": {},
          "execution_count": 21
        },
        {
          "output_type": "display_data",
          "data": {
            "text/plain": [
              "<Figure size 640x480 with 1 Axes>"
            ],
            "image/png": "[encoded data removed]"
          },
          "metadata": {}
        }
      ],
      "source": [
        "# plt.hist(fireball['Longitude (deg.)'],bins=360)\n",
        "# plt.title('some title')\n",
        "c, b = np.histogram(fireball['Longitude (deg.)'], bins = np.arange(min(fireball['Longitude (deg.)']),max(fireball['Longitude (deg.)']),1))\n",
        "unique, counts = np.unique(c, return_counts=True)\n",
        "unique, counts, len(counts)\n",
        "plt.bar(unique, counts)\n",
        "plt.xlabel(\"No. of events/bin (n=360 bins)\",fontsize=12)\n",
        "plt.ylabel(\"No. of bins\",fontsize=12)\n",
        "plt.title(\"Histogram of Longitude Histogram\",fontsize=15)"
      ]
    },
    {
      "cell_type": "markdown",
      "metadata": {
        "id": "l3aY999BFdfK"
      },
      "source": [
        "This is very similar to the poisson distribution, as can be seen through a comparison of the shape of the two graphs. The centre is at 2, which it should be since mu = 2.168. The graph is right tailed and there are essentially no bins with counts larger than 7."
      ]
    }
  ],
  "metadata": {
    "colab": {
      "provenance": []
    },
    "kernelspec": {
      "display_name": "Python 3",
      "name": "python3"
    },
    "language_info": {
      "name": "python"
    }
  },
  "nbformat": 4,
  "nbformat_minor": 0
}